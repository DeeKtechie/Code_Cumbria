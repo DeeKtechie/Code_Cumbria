{
 "cells": [
  {
   "cell_type": "code",
   "execution_count": 18,
   "id": "b9c3cd86-1ca7-4943-905a-e25b1244bf42",
   "metadata": {},
   "outputs": [
    {
     "name": "stdout",
     "output_type": "stream",
     "text": [
      "Yesterday was the most \n"
     ]
    },
    {
     "name": "stdin",
     "output_type": "stream",
     "text": [
      "Enter an adjective (e.g., funny, scary):  funny\n"
     ]
    },
    {
     "name": "stdout",
     "output_type": "stream",
     "text": [
      "day of my life! I woke up in \n"
     ]
    },
    {
     "name": "stdin",
     "output_type": "stream",
     "text": [
      "Enter a place (e.g., New York, school, beach):  maldives\n"
     ]
    },
    {
     "name": "stdout",
     "output_type": "stream",
     "text": [
      "and realized I had turned into a superhero. My superpower was \n"
     ]
    },
    {
     "name": "stdin",
     "output_type": "stream",
     "text": [
      "Enter a verb ending in -ing (e.g., jumping, running):  running\n"
     ]
    },
    {
     "name": "stdout",
     "output_type": "stream",
     "text": [
      "faster than a \n"
     ]
    },
    {
     "name": "stdin",
     "output_type": "stream",
     "text": [
      "Enter an adjective:  cheetah\n",
      "Enter an animal:  cheetah\n"
     ]
    },
    {
     "name": "stdout",
     "output_type": "stream",
     "text": [
      "I put on my \n"
     ]
    },
    {
     "name": "stdin",
     "output_type": "stream",
     "text": [
      "Enter a color:  red\n",
      "Enter a clothing item (e.g., shirt, cape):  cape\n"
     ]
    },
    {
     "name": "stdout",
     "output_type": "stream",
     "text": [
      "and rushed outside.\n",
      "Suddenly, a \n"
     ]
    },
    {
     "name": "stdin",
     "output_type": "stream",
     "text": [
      "Enter an adjective (villain description):  nasty\n"
     ]
    },
    {
     "name": "stdout",
     "output_type": "stream",
     "text": [
      "villain appeared, holding a \n"
     ]
    },
    {
     "name": "stdin",
     "output_type": "stream",
     "text": [
      "Enter an object (e.g., bucket, phone):  samsung\n"
     ]
    },
    {
     "name": "stdout",
     "output_type": "stream",
     "text": [
      "filled with \n"
     ]
    },
    {
     "name": "stdin",
     "output_type": "stream",
     "text": [
      "Enter a liquid (e.g., milk, slime):  slime\n"
     ]
    },
    {
     "name": "stdout",
     "output_type": "stream",
     "text": [
      "The villain shouted, ‘Prepare to \n"
     ]
    },
    {
     "name": "stdin",
     "output_type": "stream",
     "text": [
      "Enter a verb:  cryyyyyyyyyy\n"
     ]
    },
    {
     "name": "stdout",
     "output_type": "stream",
     "text": [
      ", you \n"
     ]
    },
    {
     "name": "stdin",
     "output_type": "stream",
     "text": [
      "Enter an adjective:  baby\n",
      "Enter a noun:  girl\n"
     ]
    },
    {
     "name": "stdout",
     "output_type": "stream",
     "text": [
      "I knew I had to act quickly. Using my powers, I \n"
     ]
    },
    {
     "name": "stdin",
     "output_type": "stream",
     "text": [
      "Enter a verb (past tense):  smashed\n"
     ]
    },
    {
     "name": "stdout",
     "output_type": "stream",
     "text": [
      "across the city, dodging \n"
     ]
    },
    {
     "name": "stdin",
     "output_type": "stream",
     "text": [
      "Enter a plural noun:  cars\n"
     ]
    },
    {
     "name": "stdout",
     "output_type": "stream",
     "text": [
      "and leaping over \n"
     ]
    },
    {
     "name": "stdin",
     "output_type": "stream",
     "text": [
      "Enter another plural noun:  houses\n"
     ]
    },
    {
     "name": "stdout",
     "output_type": "stream",
     "text": [
      "Finally, I reached the villain’s secret \n"
     ]
    },
    {
     "name": "stdin",
     "output_type": "stream",
     "text": [
      "Enter a building or place:  lair\n"
     ]
    },
    {
     "name": "stdout",
     "output_type": "stream",
     "text": [
      "Inside, the villain’s army of \n"
     ]
    },
    {
     "name": "stdin",
     "output_type": "stream",
     "text": [
      "Enter a plural animal:  rats\n"
     ]
    },
    {
     "name": "stdout",
     "output_type": "stream",
     "text": [
      "tried to stop me. I grabbed a \n"
     ]
    },
    {
     "name": "stdin",
     "output_type": "stream",
     "text": [
      "Enter a weapon:  cheese cloth\n"
     ]
    },
    {
     "name": "stdout",
     "output_type": "stream",
     "text": [
      "and \n"
     ]
    },
    {
     "name": "stdin",
     "output_type": "stream",
     "text": [
      "Enter a verb (past tense):  sweeped\n"
     ]
    },
    {
     "name": "stdout",
     "output_type": "stream",
     "text": [
      "them until they all ran away.\n",
      "At last, it was just me and the villain. I took a deep breath, shouted \n"
     ]
    },
    {
     "name": "stdin",
     "output_type": "stream",
     "text": [
      "Enter a funny phrase:  its timeeeeeeeeee\n"
     ]
    },
    {
     "name": "stdout",
     "output_type": "stream",
     "text": [
      "and used my powers to \n"
     ]
    },
    {
     "name": "stdin",
     "output_type": "stream",
     "text": [
      "Enter a verb:  finish\n"
     ]
    },
    {
     "name": "stdout",
     "output_type": "stream",
     "text": [
      "the \n"
     ]
    },
    {
     "name": "stdin",
     "output_type": "stream",
     "text": [
      "Enter an object (e.g., bucket, phone):  villian\n"
     ]
    },
    {
     "name": "stdout",
     "output_type": "stream",
     "text": [
      "into the sky. Everyone in the city started \n"
     ]
    },
    {
     "name": "stdin",
     "output_type": "stream",
     "text": [
      "Enter a verb ending in -ing:  dancing\n"
     ]
    },
    {
     "name": "stdout",
     "output_type": "stream",
     "text": [
      "with joy.\n",
      "When it was all over, the mayor gave me a \n"
     ]
    },
    {
     "name": "stdin",
     "output_type": "stream",
     "text": [
      "Enter an adjective:  gold\n"
     ]
    },
    {
     "name": "stdout",
     "output_type": "stream",
     "text": [
      "medal made of \n"
     ]
    },
    {
     "name": "stdin",
     "output_type": "stream",
     "text": [
      "Enter a material (e.g., gold, plastic):  gold\n"
     ]
    },
    {
     "name": "stdout",
     "output_type": "stream",
     "text": [
      "and declared me the official protector of \n"
     ]
    },
    {
     "name": "stdin",
     "output_type": "stream",
     "text": [
      "Enter a city name:  maldives\n"
     ]
    },
    {
     "name": "stdout",
     "output_type": "stream",
     "text": [
      "It was the most \n"
     ]
    },
    {
     "name": "stdin",
     "output_type": "stream",
     "text": [
      "Enter a final adjective:  eventful\n"
     ]
    },
    {
     "name": "stdout",
     "output_type": "stream",
     "text": [
      "day ever! \n",
      "\n",
      "--- Your Superhero Story ---\n",
      "\n",
      "Yesterday was the most funny day of my life! I woke up in maldives and realized I had turned into a superhero. My superpower was running faster than a cheetah cheetah. I put on my red cape and rushed outside. \n",
      "\n",
      "Suddenly, a nasty villain appeared, holding a samsung filled with slime. The villain shouted, ‘Prepare to cryyyyyyyyyy, you gold girl!’\n",
      "\n",
      "I knew I had to act quickly. Using my powers, I smashed across the city, dodging cars and leaping over houses. Finally, I reached the villain’s secret lair.\n",
      "\n",
      "Inside, the villain’s army of rats tried to stop me. I grabbed a cheese cloth and sweeped them until they all ran away.\n",
      "\n",
      "At last, it was just me and the villain. I took a deep breath, shouted \"its timeeeeeeeeee\", and used my powers to finish the villian into the sky. Everyone in the city started dancing with joy.\n",
      "\n"
     ]
    },
    {
     "ename": "NameError",
     "evalue": "name 'adjective_5' is not defined",
     "output_type": "error",
     "traceback": [
      "\u001b[31m---------------------------------------------------------------------------\u001b[39m",
      "\u001b[31mNameError\u001b[39m                                 Traceback (most recent call last)",
      "\u001b[36mCell\u001b[39m\u001b[36m \u001b[39m\u001b[32mIn[18]\u001b[39m\u001b[32m, line 83\u001b[39m\n\u001b[32m     76\u001b[39m \u001b[38;5;28mprint\u001b[39m(\u001b[33mf\u001b[39m\u001b[33m\"\u001b[39m\u001b[33mInside, the villain’s army of \u001b[39m\u001b[38;5;132;01m{\u001b[39;00mnoun_5\u001b[38;5;132;01m}\u001b[39;00m\u001b[33m tried to stop me. I grabbed a \u001b[39m\u001b[38;5;132;01m{\u001b[39;00mnoun_6\u001b[38;5;132;01m}\u001b[39;00m\u001b[33m and \u001b[39m\u001b[38;5;132;01m{\u001b[39;00mverb_4\u001b[38;5;132;01m}\u001b[39;00m\u001b[33m \u001b[39m\u001b[33m\"\u001b[39m\n\u001b[32m     77\u001b[39m       \u001b[33mf\u001b[39m\u001b[33m\"\u001b[39m\u001b[33mthem until they all ran away.\u001b[39m\u001b[38;5;130;01m\\n\u001b[39;00m\u001b[33m\"\u001b[39m)\n\u001b[32m     79\u001b[39m \u001b[38;5;28mprint\u001b[39m(\u001b[33mf\u001b[39m\u001b[33m\"\u001b[39m\u001b[33mAt last, it was just me and the villain. I took a deep breath, shouted \u001b[39m\u001b[38;5;130;01m\\\"\u001b[39;00m\u001b[38;5;132;01m{\u001b[39;00mphrase_1\u001b[38;5;132;01m}\u001b[39;00m\u001b[38;5;130;01m\\\"\u001b[39;00m\u001b[33m, \u001b[39m\u001b[33m\"\u001b[39m\n\u001b[32m     80\u001b[39m       \u001b[33mf\u001b[39m\u001b[33m\"\u001b[39m\u001b[33mand used my powers to \u001b[39m\u001b[38;5;132;01m{\u001b[39;00mverb_5\u001b[38;5;132;01m}\u001b[39;00m\u001b[33m the \u001b[39m\u001b[38;5;132;01m{\u001b[39;00mobject_2\u001b[38;5;132;01m}\u001b[39;00m\u001b[33m into the sky. Everyone in the city started \u001b[39m\u001b[33m\"\u001b[39m\n\u001b[32m     81\u001b[39m       \u001b[33mf\u001b[39m\u001b[33m\"\u001b[39m\u001b[38;5;132;01m{\u001b[39;00mverb_6\u001b[38;5;132;01m}\u001b[39;00m\u001b[33m with joy.\u001b[39m\u001b[38;5;130;01m\\n\u001b[39;00m\u001b[33m\"\u001b[39m)\n\u001b[32m---> \u001b[39m\u001b[32m83\u001b[39m \u001b[38;5;28mprint\u001b[39m(\u001b[33mf\u001b[39m\u001b[33m\"\u001b[39m\u001b[33mWhen it was all over, the mayor gave me a \u001b[39m\u001b[38;5;132;01m{\u001b[39;00m\u001b[43madjective_5\u001b[49m\u001b[38;5;132;01m}\u001b[39;00m\u001b[33m medal made of \u001b[39m\u001b[38;5;132;01m{\u001b[39;00mnoun_7\u001b[38;5;132;01m}\u001b[39;00m\u001b[33m \u001b[39m\u001b[33m\"\u001b[39m\n\u001b[32m     84\u001b[39m       \u001b[33mf\u001b[39m\u001b[33m\"\u001b[39m\u001b[33mand declared me the official protector of \u001b[39m\u001b[38;5;132;01m{\u001b[39;00mnoun_8\u001b[38;5;132;01m}\u001b[39;00m\u001b[33m. \u001b[39m\u001b[33m\"\u001b[39m\n\u001b[32m     85\u001b[39m       \u001b[33mf\u001b[39m\u001b[33m\"\u001b[39m\u001b[33mIt was the most \u001b[39m\u001b[38;5;132;01m{\u001b[39;00madjective_6\u001b[38;5;132;01m}\u001b[39;00m\u001b[33m day ever!\u001b[39m\u001b[38;5;130;01m\\n\u001b[39;00m\u001b[33m\"\u001b[39m)\n",
      "\u001b[31mNameError\u001b[39m: name 'adjective_5' is not defined"
     ]
    }
   ],
   "source": [
    "print(\"Yesterday was the most \")\n",
    "adjective_1 = input(\"Enter an adjective (e.g., funny, scary): \")\n",
    "print(\"day of my life! I woke up in \")\n",
    "noun_1 = input(\"Enter a place (e.g., New York, school, beach): \")\n",
    "print(\"and realized I had turned into a superhero. My superpower was \")\n",
    "verb_1 = input(\"Enter a verb ending in -ing (e.g., jumping, running): \")\n",
    "print(\"faster than a \")\n",
    "adjective_2 = input(\"Enter an adjective: \")\n",
    "animal_1= input(\"Enter an animal: \")\n",
    "print(\"I put on my \")\n",
    "colour_1= input(\"Enter a color: \")\n",
    "clothing_1= input(\"Enter a clothing item (e.g., shirt, cape): \")\n",
    "print(\"and rushed outside.\")\n",
    "\n",
    "print(\"Suddenly, a \")\n",
    "adjective_3= input(\"Enter an adjective (villain description): \")\n",
    "print(\"villain appeared, holding a \")\n",
    "object_1= input(\"Enter an object (e.g., bucket, phone): \")\n",
    "print(\"filled with \")\n",
    "liquid_1= input(\"Enter a liquid (e.g., milk, slime): \")\n",
    "print(\"The villain shouted, ‘Prepare to \")\n",
    "verb_2= input(\"Enter a verb: \")\n",
    "print(\", you \")\n",
    "adjective_4= input(\"Enter an adjective: \")\n",
    "noun_2= input(\"Enter a noun: \")\n",
    "\n",
    "print(\"I knew I had to act quickly. Using my powers, I \")\n",
    "verb_3= input(\"Enter a verb (past tense): \")\n",
    "print(\"across the city, dodging \")\n",
    "noun_3= input(\"Enter a plural noun: \")\n",
    "print(\"and leaping over \")\n",
    "noun_4= input(\"Enter another plural noun: \")\n",
    "print(\"Finally, I reached the villain’s secret \")\n",
    "place_1= input(\"Enter a building or place: \")\n",
    "\n",
    "print(\"Inside, the villain’s army of \")\n",
    "noun_5= input(\"Enter a plural animal: \")\n",
    "print(\"tried to stop me. I grabbed a \")\n",
    "noun_6= input(\"Enter a weapon: \")\n",
    "print(\"and \")\n",
    "verb_4= input(\"Enter a verb (past tense): \")\n",
    "print(\"them until they all ran away.\")\n",
    "\n",
    "print(\"At last, it was just me and the villain. I took a deep breath, shouted \")\n",
    "phrase_1= input(\"Enter a funny phrase: \")\n",
    "print(\"and used my powers to \")\n",
    "verb_5= input(\"Enter a verb: \")\n",
    "print(\"the \")\n",
    "object_2= input(\"Enter an object (e.g., bucket, phone): \")\n",
    "print(\"into the sky. Everyone in the city started \")\n",
    "verb_6= input(\"Enter a verb ending in -ing: \")\n",
    "print(\"with joy.\")\n",
    "\n",
    "print(\"When it was all over, the mayor gave me a \")\n",
    "adjective_4= input(\"Enter an adjective: \")\n",
    "print(\"medal made of \")\n",
    "noun_7= input(\"Enter a material (e.g., gold, plastic): \")\n",
    "print(\"and declared me the official protector of \")\n",
    "noun_8= input(\"Enter a city name: \")\n",
    "print(\"It was the most \")\n",
    "adjective_8= input(\"Enter a final adjective: \")\n",
    "print(\"day ever! \")\n",
    "\n",
    "# Print full story\n",
    "print(\"\\n--- Your Superhero Story ---\\n\")\n",
    "print(f\"Yesterday was the most {adjective_1} day of my life! I woke up in {noun_1} \"\n",
    "      f\"and realized I had turned into a superhero. My superpower was {verb_1} faster \"\n",
    "      f\"than a {adjective_2} {animal_1}. I put on my {colour_1} {clothing_1} and rushed outside. \\n\")\n",
    "\n",
    "print(f\"Suddenly, a {adjective_3} villain appeared, holding a {object_1} filled with {liquid_1}. \"\n",
    "      f\"The villain shouted, ‘Prepare to {verb_2}, you {adjective_4} {noun_2}!’\\n\")\n",
    "\n",
    "print(f\"I knew I had to act quickly. Using my powers, I {verb_3} across the city, dodging {noun_3} \"\n",
    "      f\"and leaping over {noun_4}. Finally, I reached the villain’s secret {place_1}.\\n\")\n",
    "\n",
    "print(f\"Inside, the villain’s army of {noun_5} tried to stop me. I grabbed a {noun_6} and {verb_4} \"\n",
    "      f\"them until they all ran away.\\n\")\n",
    "\n",
    "print(f\"At last, it was just me and the villain. I took a deep breath, shouted \\\"{phrase_1}\\\", \"\n",
    "      f\"and used my powers to {verb_5} the {object_2} into the sky. Everyone in the city started \"\n",
    "      f\"{verb_6} with joy.\\n\")\n",
    "\n",
    "print(f\"When it was all over, the mayor gave me a {adjective_5} medal made of {noun_7} \"\n",
    "      f\"and declared me the official protector of {noun_8}. \"\n",
    "      f\"It was the most {adjective_6} day ever!\\n\")"
   ]
  },
  {
   "cell_type": "code",
   "execution_count": 14,
   "id": "d54d1321-9095-4fad-824c-af1fa722169e",
   "metadata": {},
   "outputs": [
    {
     "name": "stderr",
     "output_type": "stream",
     "text": [
      "Exception in Tkinter callback\n",
      "Traceback (most recent call last):\n",
      "  File \"C:\\Users\\Debbie\\anaconda3\\Lib\\tkinter\\__init__.py\", line 1968, in __call__\n",
      "    return self.func(*args)\n",
      "           ^^^^^^^^^^^^^^^^\n",
      "  File \"C:\\Users\\Debbie\\AppData\\Local\\Temp\\ipykernel_5240\\1365396596.py\", line 7, in <lambda>\n",
      "    Story1Button = Button(Screen, text='A memorable day', font=(\"Times New Roman\", 13),command=lambda: Story1(Screen),bg='Blue')\n",
      "                                                                                                       ^^^^^^\n",
      "NameError: name 'Story1' is not defined\n",
      "Exception in Tkinter callback\n",
      "Traceback (most recent call last):\n",
      "  File \"C:\\Users\\Debbie\\anaconda3\\Lib\\tkinter\\__init__.py\", line 1968, in __call__\n",
      "    return self.func(*args)\n",
      "           ^^^^^^^^^^^^^^^^\n",
      "  File \"C:\\Users\\Debbie\\AppData\\Local\\Temp\\ipykernel_5240\\1365396596.py\", line 7, in <lambda>\n",
      "    Story1Button = Button(Screen, text='A memorable day', font=(\"Times New Roman\", 13),command=lambda: Story1(Screen),bg='Blue')\n",
      "                                                                                                       ^^^^^^\n",
      "NameError: name 'Story1' is not defined\n",
      "Exception in Tkinter callback\n",
      "Traceback (most recent call last):\n",
      "  File \"C:\\Users\\Debbie\\anaconda3\\Lib\\tkinter\\__init__.py\", line 1968, in __call__\n",
      "    return self.func(*args)\n",
      "           ^^^^^^^^^^^^^^^^\n",
      "  File \"C:\\Users\\Debbie\\AppData\\Local\\Temp\\ipykernel_5240\\1365396596.py\", line 7, in <lambda>\n",
      "    Story1Button = Button(Screen, text='A memorable day', font=(\"Times New Roman\", 13),command=lambda: Story1(Screen),bg='Blue')\n",
      "                                                                                                       ^^^^^^\n",
      "NameError: name 'Story1' is not defined\n",
      "Exception in Tkinter callback\n",
      "Traceback (most recent call last):\n",
      "  File \"C:\\Users\\Debbie\\anaconda3\\Lib\\tkinter\\__init__.py\", line 1968, in __call__\n",
      "    return self.func(*args)\n",
      "           ^^^^^^^^^^^^^^^^\n",
      "  File \"C:\\Users\\Debbie\\AppData\\Local\\Temp\\ipykernel_5240\\1365396596.py\", line 9, in <lambda>\n",
      "    Story2Button = Button(Screen, text='Ambitions', font=(\"Times New Roman\", 13),command=lambda: Story2(Screen), bg='Blue')\n",
      "                                                                                                 ^^^^^^\n",
      "NameError: name 'Story2' is not defined\n",
      "Exception in Tkinter callback\n",
      "Traceback (most recent call last):\n",
      "  File \"C:\\Users\\Debbie\\anaconda3\\Lib\\tkinter\\__init__.py\", line 1968, in __call__\n",
      "    return self.func(*args)\n",
      "           ^^^^^^^^^^^^^^^^\n",
      "  File \"C:\\Users\\Debbie\\AppData\\Local\\Temp\\ipykernel_5240\\1365396596.py\", line 7, in <lambda>\n",
      "    Story1Button = Button(Screen, text='A memorable day', font=(\"Times New Roman\", 13),command=lambda: Story1(Screen),bg='Blue')\n",
      "                                                                                                       ^^^^^^\n",
      "NameError: name 'Story1' is not defined\n",
      "Exception in Tkinter callback\n",
      "Traceback (most recent call last):\n",
      "  File \"C:\\Users\\Debbie\\anaconda3\\Lib\\tkinter\\__init__.py\", line 1968, in __call__\n",
      "    return self.func(*args)\n",
      "           ^^^^^^^^^^^^^^^^\n",
      "  File \"C:\\Users\\Debbie\\AppData\\Local\\Temp\\ipykernel_5240\\1365396596.py\", line 9, in <lambda>\n",
      "    Story2Button = Button(Screen, text='Ambitions', font=(\"Times New Roman\", 13),command=lambda: Story2(Screen), bg='Blue')\n",
      "                                                                                                 ^^^^^^\n",
      "NameError: name 'Story2' is not defined\n"
     ]
    }
   ],
   "source": []
  },
  {
   "cell_type": "code",
   "execution_count": null,
   "id": "58911618-800f-4680-b29f-5b4e3d426419",
   "metadata": {},
   "outputs": [],
   "source": []
  }
 ],
 "metadata": {
  "kernelspec": {
   "display_name": "Python 3 (ipykernel)",
   "language": "python",
   "name": "python3"
  },
  "language_info": {
   "codemirror_mode": {
    "name": "ipython",
    "version": 3
   },
   "file_extension": ".py",
   "mimetype": "text/x-python",
   "name": "python",
   "nbconvert_exporter": "python",
   "pygments_lexer": "ipython3",
   "version": "3.12.4"
  }
 },
 "nbformat": 4,
 "nbformat_minor": 5
}

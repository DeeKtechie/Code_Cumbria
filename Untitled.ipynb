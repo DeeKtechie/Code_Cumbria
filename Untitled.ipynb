{
 "cells": [
  {
   "cell_type": "code",
   "execution_count": null,
   "id": "50ce45ae-a51c-4054-80ca-1c8b064a4df3",
   "metadata": {},
   "outputs": [],
   "source": []
  },
  {
   "cell_type": "code",
   "execution_count": null,
   "id": "defa9d6e-9849-41ec-be21-bb34748ec862",
   "metadata": {},
   "outputs": [],
   "source": [
    "import random"
   ]
  },
  {
   "cell_type": "code",
   "execution_count": null,
   "id": "742aa0c8-b836-45a0-afb3-b5786c55fa06",
   "metadata": {},
   "outputs": [],
   "source": [
    "#Python Number Guessing game\n",
    "\n",
    "print(\"Welcome to our Python guessing game, /n you get three trials to get the correct number\")\n",
    "your_number = int(input(\"Enter a random number from 1-100: \"))\n",
    "my_number = ranrandint(1,100)\n",
    "trial = 1\n",
    "while trial < 4:\n",
    "    if my_number == your_number:\n",
    "        print(f\"The correct number is {my_number}\")\n",
    "        print(\"You are a smartie!!! You got the number\")\n",
    "    else:\n",
    "        print(f\"The correct number is {my_number}\")\n",
    "        print(\"That's wrong, Better luck next time\")\n",
    "        trial += 1\n",
    "print(\"Thats the end\")"
   ]
  },
  {
   "cell_type": "code",
   "execution_count": null,
   "id": "093bd9e8-5caa-4b11-8282-bca618f9fb96",
   "metadata": {},
   "outputs": [],
   "source": []
  }
 ],
 "metadata": {
  "kernelspec": {
   "display_name": "Python 3 (ipykernel)",
   "language": "python",
   "name": "python3"
  },
  "language_info": {
   "codemirror_mode": {
    "name": "ipython",
    "version": 3
   },
   "file_extension": ".py",
   "mimetype": "text/x-python",
   "name": "python",
   "nbconvert_exporter": "python",
   "pygments_lexer": "ipython3",
   "version": "3.12.4"
  }
 },
 "nbformat": 4,
 "nbformat_minor": 5
}
